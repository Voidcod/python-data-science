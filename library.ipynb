{
 "cells": [
  {
   "cell_type": "code",
   "execution_count": 2,
   "metadata": {},
   "outputs": [],
   "source": [
    "import math\n"
   ]
  },
  {
   "cell_type": "code",
   "execution_count": 3,
   "metadata": {},
   "outputs": [
    {
     "name": "stdout",
     "output_type": "stream",
     "text": [
      "3.605551275463989\n",
      "3.141592653589793\n",
      "<built-in function factorial>\n",
      "<built-in function lcm>\n",
      "<built-in function log>\n",
      "<built-in function gcd>\n"
     ]
    }
   ],
   "source": [
    "print(math.sqrt(13))\n",
    "print(math.pi)\n",
    "print(math.factorial)\n",
    "print(math.lcm)\n",
    "print(math.log)\n",
    "print(math.gcd)"
   ]
  },
  {
   "cell_type": "code",
   "execution_count": 4,
   "metadata": {},
   "outputs": [],
   "source": [
    "from random import random,randint,choice,shuffle"
   ]
  },
  {
   "cell_type": "code",
   "execution_count": 5,
   "metadata": {},
   "outputs": [
    {
     "name": "stdout",
     "output_type": "stream",
     "text": [
      "get a number between 0 and 1: 0.3909910469174853\n",
      "get a number between 50 and 100: 84\n",
      "select a number item: win\n",
      "shuffle a list: ['fiza', 'zainab', 'zoya']\n"
     ]
    }
   ],
   "source": [
    "print('get a number between 0 and 1:',random())\n",
    "print('get a number between 50 and 100:',randint(50,100))\n",
    "print('select a number item:',choice(['win','draw','lose']))\n",
    "name=['fiza','zainab','zoya']\n",
    "shuffle (name)\n",
    "print('shuffle a list:',name)"
   ]
  },
  {
   "cell_type": "code",
   "execution_count": 6,
   "metadata": {},
   "outputs": [],
   "source": [
    "from datetime import datetime as dt"
   ]
  },
  {
   "cell_type": "code",
   "execution_count": 7,
   "metadata": {},
   "outputs": [
    {
     "name": "stdout",
     "output_type": "stream",
     "text": [
      "current: 2023-05-09 16:26:00.160829\n",
      "current time: 16:26:00.160829\n",
      "current date: 2023-05-09\n",
      "timestamp: 1683629760.160829\n",
      "year: 2023\n",
      "month: 5\n",
      "day: 9\n"
     ]
    }
   ],
   "source": [
    "print('current:', dt.now())\n",
    "print('current time:',dt.now().time())\n",
    "print('current date:',dt.now().date())\n",
    "print('timestamp:',dt.now().timestamp())\n",
    "print('year:',dt.now().year)\n",
    "print('month:',dt.now().month)\n",
    "print('day:',dt.now().day)"
   ]
  },
  {
   "cell_type": "code",
   "execution_count": 8,
   "metadata": {},
   "outputs": [
    {
     "name": "stdout",
     "output_type": "stream",
     "text": [
      "format date 09/05/2023\n"
     ]
    }
   ],
   "source": [
    "date= dt.strftime(dt.now(),'%d/%m/%Y')\n",
    "print('format date',date)"
   ]
  },
  {
   "cell_type": "code",
   "execution_count": 9,
   "metadata": {},
   "outputs": [
    {
     "data": {
      "text/plain": [
       "'16: 28: 13'"
      ]
     },
     "execution_count": 9,
     "metadata": {},
     "output_type": "execute_result"
    }
   ],
   "source": [
    "dt.strftime(dt.now(),'%H: %M: %S')"
   ]
  },
  {
   "attachments": {},
   "cell_type": "markdown",
   "metadata": {},
   "source": []
  },
  {
   "cell_type": "code",
   "execution_count": 21,
   "metadata": {},
   "outputs": [],
   "source": [
    "import os #know about folders and files"
   ]
  },
  {
   "cell_type": "code",
   "execution_count": 11,
   "metadata": {},
   "outputs": [
    {
     "name": "stdout",
     "output_type": "stream",
     "text": [
      "current folder c:\\Users\\tabas\\OneDrive\\Documents\\python_ds\n"
     ]
    }
   ],
   "source": [
    "print('current folder',os.getcwd()) #get current working directory"
   ]
  },
  {
   "cell_type": "code",
   "execution_count": 12,
   "metadata": {},
   "outputs": [
    {
     "name": "stdout",
     "output_type": "stream",
     "text": [
      "['.git', 'assign.ipynb', 'basics.ipynb', 'classes.ipynb', 'Dict.ipynb', 'functions.ipynb', 'input.ipynb', 'library.ipynb', 'loop.ipynb', 'lst.ipynb', 'string.ipynb', 't1.py', 't2.py', 't3.py', 't4.py', 'turtle.py', 'turtleintro.py', 'uloop.ipynb']\n"
     ]
    }
   ],
   "source": [
    "files= os.listdir() #list all files and folder in current directory\n",
    "print(files)"
   ]
  },
  {
   "cell_type": "code",
   "execution_count": 16,
   "metadata": {},
   "outputs": [
    {
     "name": "stdout",
     "output_type": "stream",
     "text": [
      "['basics.ipynb', 'CSS_FE']\n",
      "2\n"
     ]
    }
   ],
   "source": [
    "files= os.listdir(r\"C:\\Users\\tabas\\OneDrive\\Documents\\_pyds\") # r is raw string so take it as a whole path\n",
    "print(files)\n",
    "print(len(files))"
   ]
  },
  {
   "cell_type": "code",
   "execution_count": 17,
   "metadata": {},
   "outputs": [
    {
     "data": {
      "text/plain": [
       "<generator object _walk at 0x000002789F1F0F90>"
      ]
     },
     "execution_count": 17,
     "metadata": {},
     "output_type": "execute_result"
    }
   ],
   "source": [
    "os.walk('C:') #walk through all folders and files in c drive"
   ]
  },
  {
   "cell_type": "code",
   "execution_count": 22,
   "metadata": {},
   "outputs": [
    {
     "name": "stdout",
     "output_type": "stream",
     "text": [
      "=> C:\\Users\\tabas\\OneDrive\\Documents\n",
      "📁 ['Dell', 'New folder', 'OneNote Notebooks', 'Python project', 'python_ds', '_pyds']\n",
      "📂 ['desktop.ini']\n",
      "---------------\n",
      "=> C:\\Users\\tabas\\OneDrive\\Documents\\Dell\n",
      "📁 ['SupportAssist']\n",
      "📂 []\n",
      "---------------\n",
      "=> C:\\Users\\tabas\\OneDrive\\Documents\\Dell\\SupportAssist\n",
      "📁 []\n",
      "📂 ['SupportAssistChatBot.dat']\n",
      "---------------\n",
      "=> C:\\Users\\tabas\\OneDrive\\Documents\\New folder\n",
      "📁 []\n",
      "📂 []\n",
      "---------------\n",
      "=> C:\\Users\\tabas\\OneDrive\\Documents\\OneNote Notebooks\n",
      "📁 []\n",
      "📂 ['Quick Notes.one']\n",
      "---------------\n",
      "=> C:\\Users\\tabas\\OneDrive\\Documents\\Python project\n",
      "📁 ['streamlit']\n",
      "📂 []\n",
      "---------------\n",
      "=> C:\\Users\\tabas\\OneDrive\\Documents\\Python project\\streamlit\n",
      "📁 []\n",
      "📂 ['main.py']\n",
      "---------------\n",
      "=> C:\\Users\\tabas\\OneDrive\\Documents\\python_ds\n",
      "📁 ['.git']\n",
      "📂 ['assign.ipynb', 'basics.ipynb', 'classes.ipynb', 'Dict.ipynb', 'functions.ipynb', 'input.ipynb', 'library.ipynb', 'loop.ipynb', 'lst.ipynb', 'string.ipynb', 't1.py', 't2.py', 't3.py', 't4.py', 'turtle.py', 'turtleintro.py', 'uloop.ipynb']\n",
      "---------------\n",
      "=> C:\\Users\\tabas\\OneDrive\\Documents\\python_ds\\.git\n",
      "📁 ['hooks', 'info', 'logs', 'objects', 'refs']\n",
      "📂 ['COMMIT_EDITMSG', 'config', 'description', 'FETCH_HEAD', 'HEAD', 'index']\n",
      "---------------\n",
      "=> C:\\Users\\tabas\\OneDrive\\Documents\\python_ds\\.git\\hooks\n",
      "📁 []\n",
      "📂 ['applypatch-msg.sample', 'commit-msg.sample', 'fsmonitor-watchman.sample', 'post-update.sample', 'pre-applypatch.sample', 'pre-commit.sample', 'pre-merge-commit.sample', 'pre-push.sample', 'pre-rebase.sample', 'pre-receive.sample', 'prepare-commit-msg.sample', 'push-to-checkout.sample', 'update.sample']\n",
      "---------------\n",
      "=> C:\\Users\\tabas\\OneDrive\\Documents\\python_ds\\.git\\info\n",
      "📁 []\n",
      "📂 ['exclude']\n",
      "---------------\n",
      "=> C:\\Users\\tabas\\OneDrive\\Documents\\python_ds\\.git\\logs\n",
      "📁 ['refs']\n",
      "📂 ['HEAD']\n",
      "---------------\n",
      "=> C:\\Users\\tabas\\OneDrive\\Documents\\python_ds\\.git\\logs\\refs\n",
      "📁 ['heads', 'remotes']\n",
      "📂 []\n",
      "---------------\n",
      "=> C:\\Users\\tabas\\OneDrive\\Documents\\python_ds\\.git\\logs\\refs\\heads\n",
      "📁 []\n",
      "📂 ['master']\n",
      "---------------\n",
      "=> C:\\Users\\tabas\\OneDrive\\Documents\\python_ds\\.git\\logs\\refs\\remotes\n",
      "📁 ['origin']\n",
      "📂 []\n",
      "---------------\n",
      "=> C:\\Users\\tabas\\OneDrive\\Documents\\python_ds\\.git\\logs\\refs\\remotes\\origin\n",
      "📁 []\n",
      "📂 ['master']\n",
      "---------------\n",
      "=> C:\\Users\\tabas\\OneDrive\\Documents\\python_ds\\.git\\objects\n",
      "📁 ['01', '03', '05', '08', '0c', '11', '12', '1b', '1c', '1e', '1f', '30', '34', '36', '40', '4f', '52', '5d', '60', '67', '74', '80', '88', '89', '8c', '98', 'a0', 'a1', 'a7', 'af', 'b6', 'b9', 'ba', 'c2', 'c3', 'c4', 'c8', 'd1', 'd4', 'd5', 'dc', 'e6', 'eb', 'f7', 'info', 'pack']\n",
      "📂 []\n",
      "---------------\n",
      "=> C:\\Users\\tabas\\OneDrive\\Documents\\python_ds\\.git\\objects\\01\n",
      "📁 []\n",
      "📂 ['d6fcd2c1ac82e43447fadabf535f29764287b2']\n",
      "---------------\n",
      "=> C:\\Users\\tabas\\OneDrive\\Documents\\python_ds\\.git\\objects\\03\n",
      "📁 []\n",
      "📂 ['7eb0ec7da78517a0915630baf3b1e3d97af42b']\n",
      "---------------\n",
      "=> C:\\Users\\tabas\\OneDrive\\Documents\\python_ds\\.git\\objects\\05\n",
      "📁 []\n",
      "📂 ['eb6c08f6574b26300c41be9bca1c163f657068']\n",
      "---------------\n",
      "=> C:\\Users\\tabas\\OneDrive\\Documents\\python_ds\\.git\\objects\\08\n",
      "📁 []\n",
      "📂 ['4f5b6183d3015e21763e75230e2bbe64f6ea8a']\n",
      "---------------\n",
      "=> C:\\Users\\tabas\\OneDrive\\Documents\\python_ds\\.git\\objects\\0c\n",
      "📁 []\n",
      "📂 ['6c16efd2e2a4aff6c9193dc7241bd076658cb4']\n",
      "---------------\n",
      "=> C:\\Users\\tabas\\OneDrive\\Documents\\python_ds\\.git\\objects\\11\n",
      "📁 []\n",
      "📂 ['8ac95495327939dd334a79b5e62607ad853e65']\n",
      "---------------\n",
      "=> C:\\Users\\tabas\\OneDrive\\Documents\\python_ds\\.git\\objects\\12\n",
      "📁 []\n",
      "📂 ['d5a578e4fa65bc79c36b19a4730513e93d07d8']\n",
      "---------------\n",
      "=> C:\\Users\\tabas\\OneDrive\\Documents\\python_ds\\.git\\objects\\1b\n",
      "📁 []\n",
      "📂 ['57231c4d2d8c62f07800cefc27eb139aa2c633', 'bf6f0fc9290c4b5bf368092eff4a4a80c7286f']\n",
      "---------------\n",
      "=> C:\\Users\\tabas\\OneDrive\\Documents\\python_ds\\.git\\objects\\1c\n",
      "📁 []\n",
      "📂 ['778f9972d5817c7f511af07ccef6f73a54edb2', 'b6c44a038b640ab0bd6be05dbf8fdb7715752d']\n",
      "---------------\n",
      "=> C:\\Users\\tabas\\OneDrive\\Documents\\python_ds\\.git\\objects\\1e\n",
      "📁 []\n",
      "📂 ['d2ffe05990934dd124a4996bd49ab7a48ce9c9']\n",
      "---------------\n",
      "=> C:\\Users\\tabas\\OneDrive\\Documents\\python_ds\\.git\\objects\\1f\n",
      "📁 []\n",
      "📂 ['5374d31fd68fafebca5921f9ed7d71e2391a2d']\n",
      "---------------\n",
      "=> C:\\Users\\tabas\\OneDrive\\Documents\\python_ds\\.git\\objects\\30\n",
      "📁 []\n",
      "📂 ['3d1906281a371da7d75be1a3eacf9a55499ae2']\n",
      "---------------\n",
      "=> C:\\Users\\tabas\\OneDrive\\Documents\\python_ds\\.git\\objects\\34\n",
      "📁 []\n",
      "📂 ['8d3a11e342dacb9388c6558b8f4b0acd3c25eb']\n",
      "---------------\n",
      "=> C:\\Users\\tabas\\OneDrive\\Documents\\python_ds\\.git\\objects\\36\n",
      "📁 []\n",
      "📂 ['a96f1df1839ad5afe7fdf945d2073396232dfb']\n",
      "---------------\n",
      "=> C:\\Users\\tabas\\OneDrive\\Documents\\python_ds\\.git\\objects\\40\n",
      "📁 []\n",
      "📂 ['78a5081669ce0609ac3f14a62e63a631018951']\n",
      "---------------\n",
      "=> C:\\Users\\tabas\\OneDrive\\Documents\\python_ds\\.git\\objects\\4f\n",
      "📁 []\n",
      "📂 ['8dcf325c2928ce14bfa326690024b0ffe75885']\n",
      "---------------\n",
      "=> C:\\Users\\tabas\\OneDrive\\Documents\\python_ds\\.git\\objects\\52\n",
      "📁 []\n",
      "📂 ['5e6c701027031f89cedcb790fbee1e47c0402c']\n",
      "---------------\n",
      "=> C:\\Users\\tabas\\OneDrive\\Documents\\python_ds\\.git\\objects\\5d\n",
      "📁 []\n",
      "📂 ['f436c863e11bc084c7af05df5a18c808cca370']\n",
      "---------------\n",
      "=> C:\\Users\\tabas\\OneDrive\\Documents\\python_ds\\.git\\objects\\60\n",
      "📁 []\n",
      "📂 ['a0313bd26a88560839afd3c23932c70b90818f']\n",
      "---------------\n",
      "=> C:\\Users\\tabas\\OneDrive\\Documents\\python_ds\\.git\\objects\\67\n",
      "📁 []\n",
      "📂 ['2a12ba3050f246afb7f9fdeba5be747bff2250']\n",
      "---------------\n",
      "=> C:\\Users\\tabas\\OneDrive\\Documents\\python_ds\\.git\\objects\\74\n",
      "📁 []\n",
      "📂 ['cf3f0339d5270839de4c65e7432949ff6a9463']\n",
      "---------------\n",
      "=> C:\\Users\\tabas\\OneDrive\\Documents\\python_ds\\.git\\objects\\80\n",
      "📁 []\n",
      "📂 ['a713606f4b010d515514f8d9724308fd9ce3a9']\n",
      "---------------\n",
      "=> C:\\Users\\tabas\\OneDrive\\Documents\\python_ds\\.git\\objects\\88\n",
      "📁 []\n",
      "📂 ['69db6271eb29a2156395448a9c671185a08139', 'b51e21d8644981e3330a1c9e747433b53f04bb']\n",
      "---------------\n",
      "=> C:\\Users\\tabas\\OneDrive\\Documents\\python_ds\\.git\\objects\\89\n",
      "📁 []\n",
      "📂 ['2db7e36c38ecb12066ca4971a95c8c76418456']\n",
      "---------------\n",
      "=> C:\\Users\\tabas\\OneDrive\\Documents\\python_ds\\.git\\objects\\8c\n",
      "📁 []\n",
      "📂 ['b8de66d77f7d4d8a4a336806bf3daf4c8bfad9']\n",
      "---------------\n",
      "=> C:\\Users\\tabas\\OneDrive\\Documents\\python_ds\\.git\\objects\\98\n",
      "📁 []\n",
      "📂 ['688a893bedd2ac0d86de396ccac3b9e8beeb6b']\n",
      "---------------\n",
      "=> C:\\Users\\tabas\\OneDrive\\Documents\\python_ds\\.git\\objects\\a0\n",
      "📁 []\n",
      "📂 ['bbbfec9706a93c67ab6c873a360646ea528665']\n",
      "---------------\n",
      "=> C:\\Users\\tabas\\OneDrive\\Documents\\python_ds\\.git\\objects\\a1\n",
      "📁 []\n",
      "📂 ['24ab0427d465edcc12e00c6a76c0cac48546a1']\n",
      "---------------\n",
      "=> C:\\Users\\tabas\\OneDrive\\Documents\\python_ds\\.git\\objects\\a7\n",
      "📁 []\n",
      "📂 ['a402d2abf9417b3771c0cb31b6c6244c8f7290']\n",
      "---------------\n",
      "=> C:\\Users\\tabas\\OneDrive\\Documents\\python_ds\\.git\\objects\\af\n",
      "📁 []\n",
      "📂 ['4fad2c4a9572098184638e69fb27533cf50495']\n",
      "---------------\n",
      "=> C:\\Users\\tabas\\OneDrive\\Documents\\python_ds\\.git\\objects\\b6\n",
      "📁 []\n",
      "📂 ['4419ebe19cd23ddce00cac7cc2f5b80978a299']\n",
      "---------------\n",
      "=> C:\\Users\\tabas\\OneDrive\\Documents\\python_ds\\.git\\objects\\b9\n",
      "📁 []\n",
      "📂 ['8147444c188d3e10b247428fff8891bee52a30']\n",
      "---------------\n",
      "=> C:\\Users\\tabas\\OneDrive\\Documents\\python_ds\\.git\\objects\\ba\n",
      "📁 []\n",
      "📂 ['1dfae3aebefdc02f7f31ad9df2f2e0318fed23']\n",
      "---------------\n",
      "=> C:\\Users\\tabas\\OneDrive\\Documents\\python_ds\\.git\\objects\\c2\n",
      "📁 []\n",
      "📂 ['fd724bbe7fefddcb6b66b095db466930b55463']\n",
      "---------------\n",
      "=> C:\\Users\\tabas\\OneDrive\\Documents\\python_ds\\.git\\objects\\c3\n",
      "📁 []\n",
      "📂 ['04e7d84a4878ccaf2adf6939890a8741ca2d52']\n",
      "---------------\n",
      "=> C:\\Users\\tabas\\OneDrive\\Documents\\python_ds\\.git\\objects\\c4\n",
      "📁 []\n",
      "📂 ['e1aa89d528f1a94c6fb92347e24331f126999a']\n",
      "---------------\n",
      "=> C:\\Users\\tabas\\OneDrive\\Documents\\python_ds\\.git\\objects\\c8\n",
      "📁 []\n",
      "📂 ['281b62bf49588b538a3749807984752d27135b']\n",
      "---------------\n",
      "=> C:\\Users\\tabas\\OneDrive\\Documents\\python_ds\\.git\\objects\\d1\n",
      "📁 []\n",
      "📂 ['c95df18a8988fc9b0ca151bec402d731669ac3']\n",
      "---------------\n",
      "=> C:\\Users\\tabas\\OneDrive\\Documents\\python_ds\\.git\\objects\\d4\n",
      "📁 []\n",
      "📂 ['30430a24cbea5b7e6d776114719391e6cf74bc']\n",
      "---------------\n",
      "=> C:\\Users\\tabas\\OneDrive\\Documents\\python_ds\\.git\\objects\\d5\n",
      "📁 []\n",
      "📂 ['e54093eb94cb3aa2c4c470b9d28a3b394a1596']\n",
      "---------------\n",
      "=> C:\\Users\\tabas\\OneDrive\\Documents\\python_ds\\.git\\objects\\dc\n",
      "📁 []\n",
      "📂 ['a754e5d440ace9ffb1157507cb898386d0168a']\n",
      "---------------\n",
      "=> C:\\Users\\tabas\\OneDrive\\Documents\\python_ds\\.git\\objects\\e6\n",
      "📁 []\n",
      "📂 ['9de29bb2d1d6434b8b29ae775ad8c2e48c5391']\n",
      "---------------\n",
      "=> C:\\Users\\tabas\\OneDrive\\Documents\\python_ds\\.git\\objects\\eb\n",
      "📁 []\n",
      "📂 ['eb629b0c3ce6e6a0986c3dedcc2305fedafea3']\n",
      "---------------\n",
      "=> C:\\Users\\tabas\\OneDrive\\Documents\\python_ds\\.git\\objects\\f7\n",
      "📁 []\n",
      "📂 ['7174795cffd8e84201acdff391dce143875b11']\n",
      "---------------\n",
      "=> C:\\Users\\tabas\\OneDrive\\Documents\\python_ds\\.git\\objects\\info\n",
      "📁 []\n",
      "📂 []\n",
      "---------------\n",
      "=> C:\\Users\\tabas\\OneDrive\\Documents\\python_ds\\.git\\objects\\pack\n",
      "📁 []\n",
      "📂 []\n",
      "---------------\n",
      "=> C:\\Users\\tabas\\OneDrive\\Documents\\python_ds\\.git\\refs\n",
      "📁 ['heads', 'remotes', 'tags']\n",
      "📂 []\n",
      "---------------\n",
      "=> C:\\Users\\tabas\\OneDrive\\Documents\\python_ds\\.git\\refs\\heads\n",
      "📁 []\n",
      "📂 ['master']\n",
      "---------------\n",
      "=> C:\\Users\\tabas\\OneDrive\\Documents\\python_ds\\.git\\refs\\remotes\n",
      "📁 ['origin']\n",
      "📂 []\n",
      "---------------\n",
      "=> C:\\Users\\tabas\\OneDrive\\Documents\\python_ds\\.git\\refs\\remotes\\origin\n",
      "📁 []\n",
      "📂 ['master']\n",
      "---------------\n",
      "=> C:\\Users\\tabas\\OneDrive\\Documents\\python_ds\\.git\\refs\\tags\n",
      "📁 []\n",
      "📂 []\n",
      "---------------\n",
      "=> C:\\Users\\tabas\\OneDrive\\Documents\\_pyds\n",
      "📁 ['CSS_FE']\n",
      "📂 ['basics.ipynb']\n",
      "---------------\n",
      "=> C:\\Users\\tabas\\OneDrive\\Documents\\_pyds\\CSS_FE\n",
      "📁 []\n",
      "📂 ['index.html', 'selectors.html', 'syntax.html']\n",
      "---------------\n",
      "total files: 97\n"
     ]
    }
   ],
   "source": [
    "total_files= 0\n",
    "for path ,folder ,files in os.walk(r\"C:\\Users\\tabas\\OneDrive\\Documents\"):\n",
    "        print('=>',path)\n",
    "        print('📁',folder)\n",
    "        print('📂',files)\n",
    "        print('-'*15)\n",
    "        total_files+= len(files)\n",
    "print('total files:',total_files)"
   ]
  },
  {
   "cell_type": "code",
   "execution_count": 20,
   "metadata": {},
   "outputs": [
    {
     "name": "stdout",
     "output_type": "stream",
     "text": [
      "files exists\n"
     ]
    }
   ],
   "source": [
    "files =r\"C:\\Users\\tabas\\OneDrive\\Desktop\"\n",
    "if os.path.exists(files):\n",
    "    print('files exists')\n"
   ]
  },
  {
   "cell_type": "code",
   "execution_count": 24,
   "metadata": {},
   "outputs": [
    {
     "name": "stdout",
     "output_type": "stream",
     "text": [
      "file exist\n",
      "size in bytes: 4096\n",
      "size in kilobytes : 4.0\n",
      "size in megabytes: 4096.0\n",
      "size in gigabytes: 4194304.0\n",
      "size in terabytes: 4294967296.0\n",
      "size in petabytes: 4398046511104.0\n",
      "size in exabytes: 4503599627370496.0\n",
      "size in zettabytes: 4.611686018427388e+18\n",
      "size in yottabytes: 4.722366482869645e+21\n"
     ]
    }
   ],
   "source": [
    "file=r\"C:\\Users\\tabas\\OneDrive\\Documents\" #file exists or not and print its size in various format\n",
    "if os.path.exists(file):\n",
    "    print('file exist')\n",
    "    size=os.path.getsize(file)\n",
    "    print('size in bytes:',size)\n",
    "    print('size in kilobytes :',(size/1024))\n",
    "    print('size in megabytes:',(size/1024*1024))\n",
    "    print('size in gigabytes:',(size/1024*1024*1024))\n",
    "    print('size in terabytes:',(size/1024*1024*1024*1024))\n",
    "    print('size in petabytes:',(size/1024*1024*1024*1024*1024))\n",
    "    print('size in exabytes:',(size/1024*1024*1024*1024*1024*1024))\n",
    "    print('size in zettabytes:',(size/1024*1024*1024*1024*1024*1024*1024))\n",
    "    print('size in yottabytes:',(size/1024*1024*1024*1024*1024*1024*1024*1024))"
   ]
  },
  {
   "cell_type": "code",
   "execution_count": null,
   "metadata": {},
   "outputs": [],
   "source": []
  }
 ],
 "metadata": {
  "kernelspec": {
   "display_name": "base",
   "language": "python",
   "name": "python3"
  },
  "language_info": {
   "codemirror_mode": {
    "name": "ipython",
    "version": 3
   },
   "file_extension": ".py",
   "mimetype": "text/x-python",
   "name": "python",
   "nbconvert_exporter": "python",
   "pygments_lexer": "ipython3",
   "version": "3.10.10"
  },
  "orig_nbformat": 4
 },
 "nbformat": 4,
 "nbformat_minor": 2
}
