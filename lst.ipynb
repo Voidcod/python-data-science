{
 "cells": [
  {
   "cell_type": "code",
   "execution_count": 8,
   "metadata": {},
   "outputs": [
    {
     "name": "stdout",
     "output_type": "stream",
     "text": [
      "['gmail', 'utube', 'savan', 'spotify', 'games', 'learn vern', 'gmail', 'hiphop', 'tilrhop', 'google play', 'powerpoint', 'excel', 'code chef', 'feem']\n"
     ]
    }
   ],
   "source": [
    "apps= [\"gmail\",\"utube\",\"savan\",\"spotify\",\"games\",\"learn vern\",\"gmail\",\"hiphop\",\"tilrhop\",\"google play\", \"powerpoint\",\"excel\",\"code chef\",\"feem\"]\n",
    "print(apps)"
   ]
  },
  {
   "cell_type": "code",
   "execution_count": 2,
   "metadata": {},
   "outputs": [
    {
     "data": {
      "text/plain": [
       "list"
      ]
     },
     "execution_count": 2,
     "metadata": {},
     "output_type": "execute_result"
    }
   ],
   "source": [
    "type (apps)"
   ]
  },
  {
   "cell_type": "code",
   "execution_count": 3,
   "metadata": {},
   "outputs": [
    {
     "name": "stdout",
     "output_type": "stream",
     "text": [
      "13\n"
     ]
    }
   ],
   "source": [
    "print(len(apps))"
   ]
  },
  {
   "attachments": {},
   "cell_type": "markdown",
   "metadata": {},
   "source": [
    "Append Method\n"
   ]
  },
  {
   "cell_type": "code",
   "execution_count": 4,
   "metadata": {},
   "outputs": [
    {
     "name": "stdout",
     "output_type": "stream",
     "text": [
      "['gmail', 'utube', 'savan', 'spotify', 'games', 'learn vern', 'hiphop', 'tilrhop', 'google play', 'powerpoint', 'excel', 'code chef', 'feem', 'google photos']\n"
     ]
    }
   ],
   "source": [
    "apps.append(\"google photos\")\n",
    "print(apps)"
   ]
  },
  {
   "attachments": {},
   "cell_type": "markdown",
   "metadata": {},
   "source": [
    "Insert method\n"
   ]
  },
  {
   "cell_type": "code",
   "execution_count": 7,
   "metadata": {},
   "outputs": [
    {
     "name": "stdout",
     "output_type": "stream",
     "text": [
      "['gmail', 'Chrome', 'Chrome', 'utube', 'savan', 'spotify', 'games', 'learn vern', 'hiphop', 'tilrhop', 'google play', 'powerpoint', 'excel', 'code chef', 'feem', 'google photos']\n"
     ]
    }
   ],
   "source": [
    "apps.insert(1,\"Chrome\")\n",
    "print(apps)\n"
   ]
  },
  {
   "attachments": {},
   "cell_type": "markdown",
   "metadata": {},
   "source": [
    "Remove Method\n"
   ]
  },
  {
   "cell_type": "code",
   "execution_count": 9,
   "metadata": {},
   "outputs": [
    {
     "name": "stdout",
     "output_type": "stream",
     "text": [
      "['utube', 'savan', 'spotify', 'games', 'learn vern', 'gmail', 'hiphop', 'tilrhop', 'google play', 'powerpoint', 'excel', 'code chef', 'feem']\n"
     ]
    }
   ],
   "source": [
    "apps.remove(\"gmail\")\n",
    "print(apps)"
   ]
  },
  {
   "cell_type": "code",
   "execution_count": 10,
   "metadata": {},
   "outputs": [
    {
     "name": "stdout",
     "output_type": "stream",
     "text": [
      "['utube', 'savan', 'spotify', 'games', 'learn vern', 'hiphop', 'tilrhop', 'google play', 'powerpoint', 'excel', 'code chef', 'feem']\n"
     ]
    }
   ],
   "source": [
    "apps.remove(\"gmail\")\n",
    "print(apps)"
   ]
  },
  {
   "attachments": {},
   "cell_type": "markdown",
   "metadata": {},
   "source": [
    "Pop method"
   ]
  },
  {
   "cell_type": "code",
   "execution_count": 16,
   "metadata": {},
   "outputs": [
    {
     "name": "stdout",
     "output_type": "stream",
     "text": [
      "['utube', 'spotify', 'games', 'learn vern', 'hiphop', 'google play', 'powerpoint', 'excel', 'code chef']\n"
     ]
    }
   ],
   "source": [
    "apps.pop(5)\n",
    "print(apps)\n"
   ]
  },
  {
   "attachments": {},
   "cell_type": "markdown",
   "metadata": {},
   "source": [
    "Reverse method"
   ]
  },
  {
   "cell_type": "code",
   "execution_count": 17,
   "metadata": {},
   "outputs": [
    {
     "name": "stdout",
     "output_type": "stream",
     "text": [
      "['code chef', 'excel', 'powerpoint', 'google play', 'hiphop', 'learn vern', 'games', 'spotify', 'utube']\n"
     ]
    }
   ],
   "source": [
    "apps.reverse()\n",
    "print(apps)"
   ]
  },
  {
   "attachments": {},
   "cell_type": "markdown",
   "metadata": {},
   "source": [
    "copy method\n"
   ]
  },
  {
   "cell_type": "code",
   "execution_count": 18,
   "metadata": {},
   "outputs": [
    {
     "name": "stdout",
     "output_type": "stream",
     "text": [
      "['code chef', 'excel', 'powerpoint', 'google play', 'hiphop', 'learn vern', 'games', 'spotify', 'utube']\n"
     ]
    }
   ],
   "source": [
    "x = apps.copy()\n",
    "print(x)"
   ]
  },
  {
   "attachments": {},
   "cell_type": "markdown",
   "metadata": {},
   "source": [
    "sort method"
   ]
  },
  {
   "cell_type": "code",
   "execution_count": 19,
   "metadata": {},
   "outputs": [
    {
     "name": "stdout",
     "output_type": "stream",
     "text": [
      "['code chef', 'excel', 'games', 'google play', 'hiphop', 'learn vern', 'powerpoint', 'spotify', 'utube']\n"
     ]
    }
   ],
   "source": [
    "apps.sort()\n",
    "print(apps)"
   ]
  },
  {
   "cell_type": "code",
   "execution_count": 20,
   "metadata": {},
   "outputs": [
    {
     "name": "stdout",
     "output_type": "stream",
     "text": [
      "['code chef', 'excel', 'games', 'google play', 'hiphop', 'learn vern', 'powerpoint', 'spotify', 'utube', 'this', 'that', 'right']\n"
     ]
    }
   ],
   "source": [
    "word= [\"this\",\"that\",\"right\"]\n",
    "apps.extend (word)\n",
    "print(apps)"
   ]
  },
  {
   "attachments": {},
   "cell_type": "markdown",
   "metadata": {},
   "source": [
    "Count Method"
   ]
  },
  {
   "cell_type": "code",
   "execution_count": 21,
   "metadata": {},
   "outputs": [
    {
     "name": "stdout",
     "output_type": "stream",
     "text": [
      "1\n"
     ]
    }
   ],
   "source": [
    "x=apps.count(\"powerpoint\")\n",
    "print(x)\n"
   ]
  },
  {
   "attachments": {},
   "cell_type": "markdown",
   "metadata": {},
   "source": [
    "Sum\n"
   ]
  },
  {
   "cell_type": "code",
   "execution_count": 22,
   "metadata": {},
   "outputs": [
    {
     "name": "stdout",
     "output_type": "stream",
     "text": [
      "55\n"
     ]
    }
   ],
   "source": [
    "my_list=[1,2,3,4,5,6,7,8,9,10]\n",
    "list_sum= sum(my_list)\n",
    "print(list_sum)"
   ]
  },
  {
   "attachments": {},
   "cell_type": "markdown",
   "metadata": {},
   "source": [
    "Maximum"
   ]
  },
  {
   "cell_type": "code",
   "execution_count": 23,
   "metadata": {},
   "outputs": [
    {
     "name": "stdout",
     "output_type": "stream",
     "text": [
      "10\n"
     ]
    }
   ],
   "source": [
    "list_max= max(my_list)\n",
    "print(list_max)"
   ]
  },
  {
   "attachments": {},
   "cell_type": "markdown",
   "metadata": {},
   "source": [
    "Minimum"
   ]
  },
  {
   "cell_type": "code",
   "execution_count": 24,
   "metadata": {},
   "outputs": [
    {
     "name": "stdout",
     "output_type": "stream",
     "text": [
      "1\n"
     ]
    }
   ],
   "source": [
    "list_min=min(my_list)\n",
    "print(list_min)"
   ]
  },
  {
   "attachments": {},
   "cell_type": "markdown",
   "metadata": {},
   "source": [
    "LIST PRACTICE QUESTIONS"
   ]
  },
  {
   "attachments": {},
   "cell_type": "markdown",
   "metadata": {},
   "source": [
    "01: Write a program that creates an empty list and then asks the user to input integers to add to the list. Print the final list.\n"
   ]
  },
  {
   "cell_type": "code",
   "execution_count": 11,
   "metadata": {},
   "outputs": [
    {
     "name": "stdout",
     "output_type": "stream",
     "text": [
      "[45]\n"
     ]
    }
   ],
   "source": [
    "list =[]\n",
    "user= int(input(\"enter five elements : \"))\n",
    "ele= int(input())\n",
    "list.append(ele)\n",
    "print(list)\n"
   ]
  },
  {
   "attachments": {},
   "cell_type": "markdown",
   "metadata": {},
   "source": [
    "02: Write a program that creates a list of integers and then asks the user to input an integer to check if it exists in the list. Print a message indicating whether the integer is in the list or not."
   ]
  },
  {
   "cell_type": "code",
   "execution_count": 8,
   "metadata": {},
   "outputs": [
    {
     "name": "stdout",
     "output_type": "stream",
     "text": [
      "3 found at index 2\n"
     ]
    }
   ],
   "source": [
    "list= [1,2,3,4,5]\n",
    "user= int(input(\"input an integer\"))\n",
    "if user in list :\n",
    "    print(user,\"found at index\",list.index(user))\n",
    "else:\n",
    "    print(user,\"not found in list\")\n"
   ]
  },
  {
   "attachments": {},
   "cell_type": "markdown",
   "metadata": {},
   "source": [
    "03:Write a program that creates a list of strings and then sorts the list alphabetically. Print the sorted list."
   ]
  },
  {
   "cell_type": "code",
   "execution_count": 13,
   "metadata": {},
   "outputs": [
    {
     "name": "stdout",
     "output_type": "stream",
     "text": [
      "['games', 'gmail', 'gmail', 'google play', 'hiphop', 'learn vern', 'savan', 'spotify', 'tilrhop', 'utube']\n"
     ]
    }
   ],
   "source": [
    "list= [\"gmail\",\"utube\",\"savan\",\"spotify\",\"games\",\"learn vern\",\"gmail\",\"hiphop\",\"tilrhop\",\"google play\"]\n",
    "list.sort()\n",
    "print(list)"
   ]
  },
  {
   "attachments": {},
   "cell_type": "markdown",
   "metadata": {},
   "source": [
    "04: Write a program that creates a list of integers and then finds the maximum value in the list. Print the maximum value.\n"
   ]
  },
  {
   "cell_type": "code",
   "execution_count": 16,
   "metadata": {},
   "outputs": [
    {
     "name": "stdout",
     "output_type": "stream",
     "text": [
      "98\n"
     ]
    }
   ],
   "source": [
    "list =[23,45,76,98,90]\n",
    "list_max= max(list)\n",
    "print(list_max)"
   ]
  },
  {
   "attachments": {},
   "cell_type": "markdown",
   "metadata": {},
   "source": [
    "05: Write a program that creates two lists of integers and then finds the common elements between those two lists. Print the common elements"
   ]
  },
  {
   "cell_type": "code",
   "execution_count": 1,
   "metadata": {},
   "outputs": [
    {
     "data": {
      "text/plain": [
       "[3, 4]"
      ]
     },
     "execution_count": 1,
     "metadata": {},
     "output_type": "execute_result"
    }
   ],
   "source": [
    "l1= [3,4,5,6,7]\n",
    "l2= [3,4,1,2,8]\n",
    "list(set(l1).intersection(l2))"
   ]
  },
  {
   "cell_type": "code",
   "execution_count": null,
   "metadata": {},
   "outputs": [],
   "source": []
  }
 ],
 "metadata": {
  "kernelspec": {
   "display_name": "Python 3",
   "language": "python",
   "name": "python3"
  },
  "language_info": {
   "codemirror_mode": {
    "name": "ipython",
    "version": 3
   },
   "file_extension": ".py",
   "mimetype": "text/x-python",
   "name": "python",
   "nbconvert_exporter": "python",
   "pygments_lexer": "ipython3",
   "version": "3.11.1"
  },
  "orig_nbformat": 4
 },
 "nbformat": 4,
 "nbformat_minor": 2
}
