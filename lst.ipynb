{
 "cells": [
  {
   "cell_type": "code",
   "execution_count": 2,
   "metadata": {},
   "outputs": [
    {
     "name": "stdout",
     "output_type": "stream",
     "text": [
      "['gmail', 'utube', 'savan', 'spotify', 'games', 'learn vern', 'gmail', 'hiphop', 'tilrhop', 'google play', 'powerpoint', 'excel', 'code chef', 'feem']\n"
     ]
    }
   ],
   "source": [
    "apps= [\"gmail\",\"utube\",\"savan\",\"spotify\",\"games\",\"learn vern\",\"gmail\",\"hiphop\",\"tilrhop\",\"google play\", \"powerpoint\",\"excel\",\"code chef\",\"feem\"]\n",
    "print(apps)"
   ]
  },
  {
   "cell_type": "code",
   "execution_count": 3,
   "metadata": {},
   "outputs": [
    {
     "data": {
      "text/plain": [
       "list"
      ]
     },
     "execution_count": 3,
     "metadata": {},
     "output_type": "execute_result"
    }
   ],
   "source": [
    "type (apps)"
   ]
  },
  {
   "cell_type": "code",
   "execution_count": 4,
   "metadata": {},
   "outputs": [
    {
     "name": "stdout",
     "output_type": "stream",
     "text": [
      "14\n"
     ]
    }
   ],
   "source": [
    "print(len(apps))"
   ]
  },
  {
   "attachments": {},
   "cell_type": "markdown",
   "metadata": {},
   "source": [
    "Append Method\n"
   ]
  },
  {
   "cell_type": "code",
   "execution_count": 5,
   "metadata": {},
   "outputs": [
    {
     "name": "stdout",
     "output_type": "stream",
     "text": [
      "['gmail', 'utube', 'savan', 'spotify', 'games', 'learn vern', 'gmail', 'hiphop', 'tilrhop', 'google play', 'powerpoint', 'excel', 'code chef', 'feem', 'google photos']\n"
     ]
    }
   ],
   "source": [
    "apps.append(\"google photos\")\n",
    "print(apps)"
   ]
  },
  {
   "attachments": {},
   "cell_type": "markdown",
   "metadata": {},
   "source": [
    "Insert method\n"
   ]
  },
  {
   "cell_type": "code",
   "execution_count": 6,
   "metadata": {},
   "outputs": [
    {
     "name": "stdout",
     "output_type": "stream",
     "text": [
      "['gmail', 'Chrome', 'utube', 'savan', 'spotify', 'games', 'learn vern', 'gmail', 'hiphop', 'tilrhop', 'google play', 'powerpoint', 'excel', 'code chef', 'feem', 'google photos']\n"
     ]
    }
   ],
   "source": [
    "apps.insert(1,\"Chrome\")\n",
    "print(apps)\n"
   ]
  },
  {
   "attachments": {},
   "cell_type": "markdown",
   "metadata": {},
   "source": [
    "Remove Method\n"
   ]
  },
  {
   "cell_type": "code",
   "execution_count": null,
   "metadata": {},
   "outputs": [
    {
     "name": "stdout",
     "output_type": "stream",
     "text": [
      "['Chrome', 'utube', 'savan', 'spotify', 'games', 'learn vern', 'gmail', 'hiphop', 'tilrhop', 'google play', 'powerpoint', 'excel', 'code chef', 'feem', 'google photos']\n"
     ]
    }
   ],
   "source": [
    "apps.remove(\"gmail\")\n",
    "print(apps)"
   ]
  },
  {
   "cell_type": "code",
   "execution_count": 8,
   "metadata": {},
   "outputs": [
    {
     "name": "stdout",
     "output_type": "stream",
     "text": [
      "['Chrome', 'utube', 'savan', 'spotify', 'games', 'learn vern', 'hiphop', 'tilrhop', 'google play', 'powerpoint', 'excel', 'code chef', 'feem', 'google photos']\n"
     ]
    }
   ],
   "source": [
    "apps.remove(\"gmail\")\n",
    "print(apps)"
   ]
  },
  {
   "attachments": {},
   "cell_type": "markdown",
   "metadata": {},
   "source": [
    "Pop method"
   ]
  },
  {
   "cell_type": "code",
   "execution_count": 9,
   "metadata": {},
   "outputs": [
    {
     "name": "stdout",
     "output_type": "stream",
     "text": [
      "['Chrome', 'utube', 'savan', 'spotify', 'games', 'hiphop', 'tilrhop', 'google play', 'powerpoint', 'excel', 'code chef', 'feem', 'google photos']\n"
     ]
    }
   ],
   "source": [
    "apps.pop(5)\n",
    "print(apps)\n"
   ]
  },
  {
   "attachments": {},
   "cell_type": "markdown",
   "metadata": {},
   "source": [
    "Reverse method"
   ]
  },
  {
   "cell_type": "code",
   "execution_count": 10,
   "metadata": {},
   "outputs": [
    {
     "name": "stdout",
     "output_type": "stream",
     "text": [
      "['google photos', 'feem', 'code chef', 'excel', 'powerpoint', 'google play', 'tilrhop', 'hiphop', 'games', 'spotify', 'savan', 'utube', 'Chrome']\n"
     ]
    }
   ],
   "source": [
    "apps.reverse()\n",
    "print(apps)"
   ]
  },
  {
   "attachments": {},
   "cell_type": "markdown",
   "metadata": {},
   "source": [
    "copy method\n"
   ]
  },
  {
   "cell_type": "code",
   "execution_count": 11,
   "metadata": {},
   "outputs": [
    {
     "name": "stdout",
     "output_type": "stream",
     "text": [
      "['google photos', 'feem', 'code chef', 'excel', 'powerpoint', 'google play', 'tilrhop', 'hiphop', 'games', 'spotify', 'savan', 'utube', 'Chrome']\n"
     ]
    }
   ],
   "source": [
    "x = apps.copy()\n",
    "print(x)"
   ]
  },
  {
   "attachments": {},
   "cell_type": "markdown",
   "metadata": {},
   "source": [
    "sort method"
   ]
  },
  {
   "cell_type": "code",
   "execution_count": 12,
   "metadata": {},
   "outputs": [
    {
     "name": "stdout",
     "output_type": "stream",
     "text": [
      "['Chrome', 'code chef', 'excel', 'feem', 'games', 'google photos', 'google play', 'hiphop', 'powerpoint', 'savan', 'spotify', 'tilrhop', 'utube']\n"
     ]
    }
   ],
   "source": [
    "apps.sort()\n",
    "print(apps)"
   ]
  },
  {
   "cell_type": "code",
   "execution_count": 13,
   "metadata": {},
   "outputs": [
    {
     "name": "stdout",
     "output_type": "stream",
     "text": [
      "['Chrome', 'code chef', 'excel', 'feem', 'games', 'google photos', 'google play', 'hiphop', 'powerpoint', 'savan', 'spotify', 'tilrhop', 'utube', 'this', 'that', 'right']\n"
     ]
    }
   ],
   "source": [
    "word= [\"this\",\"that\",\"right\"]\n",
    "apps.extend (word)\n",
    "print(apps)"
   ]
  },
  {
   "attachments": {},
   "cell_type": "markdown",
   "metadata": {},
   "source": [
    "Count Method"
   ]
  },
  {
   "cell_type": "code",
   "execution_count": 14,
   "metadata": {},
   "outputs": [
    {
     "name": "stdout",
     "output_type": "stream",
     "text": [
      "1\n"
     ]
    }
   ],
   "source": [
    "x=apps.count(\"powerpoint\")\n",
    "print(x)\n"
   ]
  },
  {
   "attachments": {},
   "cell_type": "markdown",
   "metadata": {},
   "source": [
    "Sum\n"
   ]
  },
  {
   "cell_type": "code",
   "execution_count": 15,
   "metadata": {},
   "outputs": [
    {
     "name": "stdout",
     "output_type": "stream",
     "text": [
      "55\n"
     ]
    }
   ],
   "source": [
    "my_list=[1,2,3,4,5,6,7,8,9,10]\n",
    "list_sum= sum(my_list)\n",
    "print(list_sum)"
   ]
  },
  {
   "attachments": {},
   "cell_type": "markdown",
   "metadata": {},
   "source": [
    "Maximum"
   ]
  },
  {
   "cell_type": "code",
   "execution_count": 16,
   "metadata": {},
   "outputs": [
    {
     "name": "stdout",
     "output_type": "stream",
     "text": [
      "10\n"
     ]
    }
   ],
   "source": [
    "list_max= max(my_list)\n",
    "print(list_max)"
   ]
  },
  {
   "attachments": {},
   "cell_type": "markdown",
   "metadata": {},
   "source": [
    "Minimum"
   ]
  },
  {
   "cell_type": "code",
   "execution_count": 17,
   "metadata": {},
   "outputs": [
    {
     "name": "stdout",
     "output_type": "stream",
     "text": [
      "1\n"
     ]
    }
   ],
   "source": [
    "list_min=min(my_list)\n",
    "print(list_min)"
   ]
  },
  {
   "attachments": {},
   "cell_type": "markdown",
   "metadata": {},
   "source": [
    "LIST PRACTICE QUESTIONS"
   ]
  },
  {
   "attachments": {},
   "cell_type": "markdown",
   "metadata": {},
   "source": [
    "01: Write a program that creates an empty list and then asks the user to input integers to add to the list. Print the final list.\n"
   ]
  },
  {
   "cell_type": "code",
   "execution_count": 19,
   "metadata": {},
   "outputs": [
    {
     "name": "stdout",
     "output_type": "stream",
     "text": [
      "[2]\n"
     ]
    }
   ],
   "source": [
    "\n",
    "list =[]\n",
    "user= int(input(\"enter five elements : \"))\n",
    "ele= int(input())\n",
    "list.append(ele)\n",
    "print(list)\n"
   ]
  },
  {
   "attachments": {},
   "cell_type": "markdown",
   "metadata": {},
   "source": [
    "02: Write a program that creates a list of integers and then asks the user to input an integer to check if it exists in the list. Print a message indicating whether the integer is in the list or not."
   ]
  },
  {
   "cell_type": "code",
   "execution_count": null,
   "metadata": {},
   "outputs": [
    {
     "name": "stdout",
     "output_type": "stream",
     "text": [
      "3 found at index 2\n"
     ]
    }
   ],
   "source": [
    "list= [1,2,3,4,5]\n",
    "user= int(input(\"input an integer\"))\n",
    "if user in list :\n",
    "    print(user,\"found at index\",list.index(user))\n",
    "else:\n",
    "    print(user,\"not found in list\")\n"
   ]
  },
  {
   "attachments": {},
   "cell_type": "markdown",
   "metadata": {},
   "source": [
    "03:Write a program that creates a list of strings and then sorts the list alphabetically. Print the sorted list."
   ]
  },
  {
   "cell_type": "code",
   "execution_count": null,
   "metadata": {},
   "outputs": [
    {
     "name": "stdout",
     "output_type": "stream",
     "text": [
      "['games', 'gmail', 'gmail', 'google play', 'hiphop', 'learn vern', 'savan', 'spotify', 'tilrhop', 'utube']\n"
     ]
    }
   ],
   "source": [
    "list= [\"gmail\",\"utube\",\"savan\",\"spotify\",\"games\",\"learn vern\",\"gmail\",\"hiphop\",\"tilrhop\",\"google play\"]\n",
    "list.sort()\n",
    "print(list)"
   ]
  },
  {
   "attachments": {},
   "cell_type": "markdown",
   "metadata": {},
   "source": [
    "04: Write a program that creates a list of integers and then finds the maximum value in the list. Print the maximum value.\n"
   ]
  },
  {
   "cell_type": "code",
   "execution_count": 24,
   "metadata": {},
   "outputs": [
    {
     "name": "stdout",
     "output_type": "stream",
     "text": [
      "98\n"
     ]
    }
   ],
   "source": [
    "list =[23,45,76,98,90]\n",
    "list_max= max(list)\n",
    "print(list_max)"
   ]
  },
  {
   "cell_type": "code",
   "execution_count": 25,
   "metadata": {},
   "outputs": [
    {
     "name": "stdout",
     "output_type": "stream",
     "text": [
      "7\n"
     ]
    }
   ],
   "source": [
    "list=[1,2,3,5,7]\n",
    "list_max=max(list)\n",
    "print(list_max)"
   ]
  },
  {
   "attachments": {},
   "cell_type": "markdown",
   "metadata": {},
   "source": [
    "05: Write a program that creates two lists of integers and then finds the common elements between those two lists. Print the common elements"
   ]
  },
  {
   "cell_type": "code",
   "execution_count": null,
   "metadata": {},
   "outputs": [
    {
     "data": {
      "text/plain": [
       "[3, 4]"
      ]
     },
     "execution_count": 1,
     "metadata": {},
     "output_type": "execute_result"
    }
   ],
   "source": [
    "l1= [3,4,5,6,7]\n",
    "l2= [3,4,1,2,8]\n",
    "list(set(l1).intersection(l2))"
   ]
  },
  {
   "attachments": {},
   "cell_type": "markdown",
   "metadata": {},
   "source": [
    "List Comprehension"
   ]
  },
  {
   "cell_type": "code",
   "execution_count": null,
   "metadata": {},
   "outputs": [
    {
     "name": "stdout",
     "output_type": "stream",
     "text": [
      "['gmail', 'savan', 'games', 'learn vern', 'gmail', 'google play']\n"
     ]
    }
   ],
   "source": [
    "list= [\"gmail\",\"utube\",\"savan\",\"spotify\",\"games\",\"learn vern\",\"gmail\",\"hiphop\",\"tilrhop\",\"google play\"]\n",
    "newList =[]\n",
    "for x in list :\n",
    "    if \"a\" in x:\n",
    "        newList.append(x)\n",
    "print(newList)"
   ]
  },
  {
   "cell_type": "code",
   "execution_count": null,
   "metadata": {},
   "outputs": [
    {
     "name": "stdout",
     "output_type": "stream",
     "text": [
      "['gmail', 'savan', 'games', 'learn vern', 'gmail', 'google play']\n"
     ]
    }
   ],
   "source": [
    "list= [\"gmail\",\"utube\",\"savan\",\"spotify\",\"games\",\"learn vern\",\"gmail\",\"hiphop\",\"tilrhop\",\"google play\"]\n",
    "newList=[ x for x in list if \"a\" in x]\n",
    "print(newList)"
   ]
  },
  {
   "cell_type": "code",
   "execution_count": null,
   "metadata": {},
   "outputs": [],
   "source": [
    "# syntax\n",
    "# newlist= [expression for item in iterable if condition == true]\n",
    "\n"
   ]
  },
  {
   "cell_type": "code",
   "execution_count": null,
   "metadata": {},
   "outputs": [
    {
     "name": "stdout",
     "output_type": "stream",
     "text": [
      "T N\n"
     ]
    }
   ],
   "source": [
    "a= \"Tabassum Nisha\"\n",
    "word =a.split()\n",
    "x=[word [0] for word in a.split()]\n",
    "y=\" \".join(x)\n",
    "print(y)"
   ]
  },
  {
   "cell_type": "code",
   "execution_count": null,
   "metadata": {},
   "outputs": [],
   "source": []
  }
 ],
 "metadata": {
  "kernelspec": {
   "display_name": "Python 3",
   "language": "python",
   "name": "python3"
  },
  "language_info": {
   "codemirror_mode": {
    "name": "ipython",
    "version": 3
   },
   "file_extension": ".py",
   "mimetype": "text/x-python",
   "name": "python",
   "nbconvert_exporter": "python",
   "pygments_lexer": "ipython3",
   "version": "3.10.10"
  },
  "orig_nbformat": 4
 },
 "nbformat": 4,
 "nbformat_minor": 2
}
