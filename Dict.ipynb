{
 "cells": [
  {
   "cell_type": "code",
   "execution_count": 1,
   "metadata": {},
   "outputs": [
    {
     "name": "stdout",
     "output_type": "stream",
     "text": [
      "{'name': 'john', 'age': 25, 'course': ['math', 'compSci'], 'phone': '555-5555', 'address': '123 man st', 'city': 'New York'}\n"
     ]
    }
   ],
   "source": [
    "student ={'name':'john',\n",
    "          'age': 25,\n",
    "          'course':['math','compSci'],\n",
    "          'phone': '555-5555',\n",
    "          'address':'123 man st',\n",
    "          'city':'New York',}\n",
    "print(student)"
   ]
  },
  {
   "attachments": {},
   "cell_type": "markdown",
   "metadata": {},
   "source": [
    "method to access dict:\n"
   ]
  },
  {
   "cell_type": "code",
   "execution_count": 3,
   "metadata": {},
   "outputs": [
    {
     "name": "stdout",
     "output_type": "stream",
     "text": [
      "john\n",
      "['math', 'compSci']\n"
     ]
    }
   ],
   "source": [
    "print(student['name'])\n",
    "print(student['course'])"
   ]
  },
  {
   "cell_type": "code",
   "execution_count": 4,
   "metadata": {},
   "outputs": [
    {
     "name": "stdout",
     "output_type": "stream",
     "text": [
      "john\n",
      "['math', 'compSci']\n"
     ]
    }
   ],
   "source": [
    "#second method to access dictionary\n",
    "print(student.get('name'))\n",
    "print( student.get('course'))"
   ]
  },
  {
   "cell_type": "code",
   "execution_count": 5,
   "metadata": {},
   "outputs": [
    {
     "name": "stdout",
     "output_type": "stream",
     "text": [
      "{'name': 'john', 'age': 25, 'course': ['math', 'compSci'], 'phone': '555-5555', 'address': '123 man st', 'city': 'New York', 'school': 'MIT'}\n"
     ]
    }
   ],
   "source": [
    "# to add a new key value pair\n",
    "student['school']= 'MIT'\n",
    "print(student)"
   ]
  },
  {
   "cell_type": "code",
   "execution_count": 6,
   "metadata": {},
   "outputs": [
    {
     "name": "stdout",
     "output_type": "stream",
     "text": [
      "{'name': 'john', 'age': 25, 'course': ['math', 'compSci'], 'phone': '555-5555', 'address': '123 man st', 'city': 'New York', 'school': 'MIT', 'DOB': '13-07-2003'}\n"
     ]
    }
   ],
   "source": [
    "student['DOB']='13-07-2003'\n",
    "print(student)"
   ]
  },
  {
   "cell_type": "code",
   "execution_count": 7,
   "metadata": {},
   "outputs": [
    {
     "name": "stdout",
     "output_type": "stream",
     "text": [
      "{'name': 'john', 'age': 25, 'course': ['math', 'compSci'], 'phone': '555-5555', 'address': '123 man st', 'city': 'New York', 'school': 'MIT', 'DOB': '13-07-2003', 'reg_id': '238904t'}\n"
     ]
    }
   ],
   "source": [
    "student['reg_id']= '238904t'\n",
    "print(student)"
   ]
  },
  {
   "cell_type": "code",
   "execution_count": 8,
   "metadata": {},
   "outputs": [
    {
     "name": "stdout",
     "output_type": "stream",
     "text": [
      "{'name': 'john', 'age': 25, 'course': ['math', 'compSci'], 'phone': '555-5555', 'address': '123 man st', 'city': 'New York', 'school': 'MIT', 'DOB': '13-07-2003', 'reg_id': '238904t', 'fathers name': 'unknown'}\n"
     ]
    }
   ],
   "source": [
    "student['fathers name']='unknown'\n",
    "print(student)"
   ]
  },
  {
   "cell_type": "code",
   "execution_count": 10,
   "metadata": {},
   "outputs": [
    {
     "name": "stdout",
     "output_type": "stream",
     "text": [
      "{'name': 'john', 'age': 25, 'course': ['math', 'compSci'], 'phone': '555-5555', 'address': '123 man st', 'city': 'New York', 'school': 'MIT', 'DOB': '13-07-2003', 'reg_id': '238904t', 'fathers name': 'unknown', 'mothers name': 'unknown'}\n"
     ]
    }
   ],
   "source": [
    "student['mothers name']='unknown'\n",
    "print(student)"
   ]
  },
  {
   "cell_type": "code",
   "execution_count": 11,
   "metadata": {},
   "outputs": [
    {
     "name": "stdout",
     "output_type": "stream",
     "text": [
      "{'name': 'Radhe Krishna', 'male lead': 'sumedh mudgalkar', 'female lead': 'Malika singh', 'total session': 2, 'ratng': 4.5, 'ott': 'hotstar'}\n"
     ]
    }
   ],
   "source": [
    "Show={'name': 'Radhe Krishna',\n",
    "      'male lead':'sumedh mudgalkar',\n",
    "      'female lead': 'Malika singh',\n",
    "      'total session':2,\n",
    "      'ratng':4.5,\n",
    "      'ott':'hotstar',}\n",
    "print(Show)"
   ]
  },
  {
   "cell_type": "code",
   "execution_count": 19,
   "metadata": {},
   "outputs": [
    {
     "name": "stdout",
     "output_type": "stream",
     "text": [
      "name\n",
      "male lead\n",
      "female lead\n",
      "total session\n",
      "ratng\n",
      "ott\n"
     ]
    }
   ],
   "source": [
    "for key in Show:\n",
    "    print(key)"
   ]
  },
  {
   "cell_type": "code",
   "execution_count": 17,
   "metadata": {},
   "outputs": [
    {
     "name": "stdout",
     "output_type": "stream",
     "text": [
      "name Radhe Krishna\n",
      "male lead sumedh mudgalkar\n",
      "female lead Malika singh\n",
      "total session 2\n",
      "ratng 4.5\n",
      "ott hotstar\n"
     ]
    }
   ],
   "source": [
    "# to print key and value both using loop\n",
    "for k,v in Show.items():\n",
    "    print(k,v)"
   ]
  },
  {
   "cell_type": "code",
   "execution_count": 20,
   "metadata": {},
   "outputs": [
    {
     "name": "stdout",
     "output_type": "stream",
     "text": [
      "Radhe Krishna\n",
      "sumedh mudgalkar\n",
      "Malika singh\n",
      "2\n",
      "4.5\n",
      "hotstar\n"
     ]
    }
   ],
   "source": [
    "#to print all the values\n",
    "for v in Show.values():\n",
    "    print(v)"
   ]
  },
  {
   "cell_type": "code",
   "execution_count": 21,
   "metadata": {},
   "outputs": [
    {
     "name": "stdout",
     "output_type": "stream",
     "text": [
      "dict_values(['Radhe Krishna', 'sumedh mudgalkar', 'Malika singh', 2, 4.5, 'hotstar'])\n",
      "dict_keys(['name', 'male lead', 'female lead', 'total session', 'ratng', 'ott'])\n",
      "dict_items([('name', 'Radhe Krishna'), ('male lead', 'sumedh mudgalkar'), ('female lead', 'Malika singh'), ('total session', 2), ('ratng', 4.5), ('ott', 'hotstar')])\n"
     ]
    }
   ],
   "source": [
    "print(Show.values())\n",
    "print(Show.keys())\n",
    "print(Show.items())"
   ]
  },
  {
   "cell_type": "code",
   "execution_count": null,
   "metadata": {},
   "outputs": [],
   "source": []
  }
 ],
 "metadata": {
  "kernelspec": {
   "display_name": "Python 3",
   "language": "python",
   "name": "python3"
  },
  "language_info": {
   "codemirror_mode": {
    "name": "ipython",
    "version": 3
   },
   "file_extension": ".py",
   "mimetype": "text/x-python",
   "name": "python",
   "nbconvert_exporter": "python",
   "pygments_lexer": "ipython3",
   "version": "3.11.1"
  },
  "orig_nbformat": 4
 },
 "nbformat": 4,
 "nbformat_minor": 2
}
