{
 "cells": [
  {
   "cell_type": "code",
   "execution_count": 1,
   "metadata": {},
   "outputs": [
    {
     "name": "stdout",
     "output_type": "stream",
     "text": [
      "{'name': 'john', 'age': 25, 'course': ['math', 'compSci'], 'phone': '555-5555', 'address': '123 man st', 'city': 'New York'}\n"
     ]
    }
   ],
   "source": [
    "student ={'name':'john',\n",
    "          'age': 25,\n",
    "          'course':['math','compSci'],\n",
    "          'phone': '555-5555',\n",
    "          'address':'123 man st',\n",
    "          'city':'New York',}\n",
    "print(student)"
   ]
  },
  {
   "attachments": {},
   "cell_type": "markdown",
   "metadata": {},
   "source": [
    "method to access dict:\n"
   ]
  },
  {
   "cell_type": "code",
   "execution_count": 3,
   "metadata": {},
   "outputs": [
    {
     "name": "stdout",
     "output_type": "stream",
     "text": [
      "john\n",
      "['math', 'compSci']\n"
     ]
    }
   ],
   "source": [
    "print(student['name'])\n",
    "print(student['course'])"
   ]
  },
  {
   "cell_type": "code",
   "execution_count": 4,
   "metadata": {},
   "outputs": [
    {
     "name": "stdout",
     "output_type": "stream",
     "text": [
      "john\n",
      "['math', 'compSci']\n"
     ]
    }
   ],
   "source": [
    "#second method to access dictionary\n",
    "print(student.get('name'))\n",
    "print( student.get('course'))"
   ]
  },
  {
   "cell_type": "code",
   "execution_count": 5,
   "metadata": {},
   "outputs": [
    {
     "name": "stdout",
     "output_type": "stream",
     "text": [
      "{'name': 'john', 'age': 25, 'course': ['math', 'compSci'], 'phone': '555-5555', 'address': '123 man st', 'city': 'New York', 'school': 'MIT'}\n"
     ]
    }
   ],
   "source": [
    "# to add a new key value pair\n",
    "student['school']= 'MIT'\n",
    "print(student)"
   ]
  },
  {
   "cell_type": "code",
   "execution_count": 6,
   "metadata": {},
   "outputs": [
    {
     "name": "stdout",
     "output_type": "stream",
     "text": [
      "{'name': 'john', 'age': 25, 'course': ['math', 'compSci'], 'phone': '555-5555', 'address': '123 man st', 'city': 'New York', 'school': 'MIT', 'DOB': '13-07-2003'}\n"
     ]
    }
   ],
   "source": [
    "student['DOB']='13-07-2003'\n",
    "print(student)"
   ]
  },
  {
   "cell_type": "code",
   "execution_count": 7,
   "metadata": {},
   "outputs": [
    {
     "name": "stdout",
     "output_type": "stream",
     "text": [
      "{'name': 'john', 'age': 25, 'course': ['math', 'compSci'], 'phone': '555-5555', 'address': '123 man st', 'city': 'New York', 'school': 'MIT', 'DOB': '13-07-2003', 'reg_id': '238904t'}\n"
     ]
    }
   ],
   "source": [
    "student['reg_id']= '238904t'\n",
    "print(student)"
   ]
  },
  {
   "cell_type": "code",
   "execution_count": 8,
   "metadata": {},
   "outputs": [
    {
     "name": "stdout",
     "output_type": "stream",
     "text": [
      "{'name': 'john', 'age': 25, 'course': ['math', 'compSci'], 'phone': '555-5555', 'address': '123 man st', 'city': 'New York', 'school': 'MIT', 'DOB': '13-07-2003', 'reg_id': '238904t', 'fathers name': 'unknown'}\n"
     ]
    }
   ],
   "source": [
    "student['fathers name']='unknown'\n",
    "print(student)"
   ]
  },
  {
   "cell_type": "code",
   "execution_count": 10,
   "metadata": {},
   "outputs": [
    {
     "name": "stdout",
     "output_type": "stream",
     "text": [
      "{'name': 'john', 'age': 25, 'course': ['math', 'compSci'], 'phone': '555-5555', 'address': '123 man st', 'city': 'New York', 'school': 'MIT', 'DOB': '13-07-2003', 'reg_id': '238904t', 'fathers name': 'unknown', 'mothers name': 'unknown'}\n"
     ]
    }
   ],
   "source": [
    "student['mothers name']='unknown'\n",
    "print(student)"
   ]
  },
  {
   "cell_type": "code",
   "execution_count": 11,
   "metadata": {},
   "outputs": [
    {
     "name": "stdout",
     "output_type": "stream",
     "text": [
      "{'name': 'Radhe Krishna', 'male lead': 'sumedh mudgalkar', 'female lead': 'Malika singh', 'total session': 2, 'ratng': 4.5, 'ott': 'hotstar'}\n"
     ]
    }
   ],
   "source": [
    "Show={'name': 'Radhe Krishna',\n",
    "      'male lead':'sumedh mudgalkar',\n",
    "      'female lead': 'Malika singh',\n",
    "      'total session':2,\n",
    "      'ratng':4.5,\n",
    "      'ott':'hotstar',}\n",
    "print(Show)"
   ]
  },
  {
   "cell_type": "code",
   "execution_count": 19,
   "metadata": {},
   "outputs": [
    {
     "name": "stdout",
     "output_type": "stream",
     "text": [
      "name\n",
      "male lead\n",
      "female lead\n",
      "total session\n",
      "ratng\n",
      "ott\n"
     ]
    }
   ],
   "source": [
    "for key in Show:\n",
    "    print(key)"
   ]
  },
  {
   "cell_type": "code",
   "execution_count": 17,
   "metadata": {},
   "outputs": [
    {
     "name": "stdout",
     "output_type": "stream",
     "text": [
      "name Radhe Krishna\n",
      "male lead sumedh mudgalkar\n",
      "female lead Malika singh\n",
      "total session 2\n",
      "ratng 4.5\n",
      "ott hotstar\n"
     ]
    }
   ],
   "source": [
    "# to print key and value both using loop\n",
    "for k,v in Show.items():\n",
    "    print(k,v)"
   ]
  },
  {
   "cell_type": "code",
   "execution_count": 20,
   "metadata": {},
   "outputs": [
    {
     "name": "stdout",
     "output_type": "stream",
     "text": [
      "Radhe Krishna\n",
      "sumedh mudgalkar\n",
      "Malika singh\n",
      "2\n",
      "4.5\n",
      "hotstar\n"
     ]
    }
   ],
   "source": [
    "#to print all the values\n",
    "for v in Show.values():\n",
    "    print(v)"
   ]
  },
  {
   "cell_type": "code",
   "execution_count": 21,
   "metadata": {},
   "outputs": [
    {
     "name": "stdout",
     "output_type": "stream",
     "text": [
      "dict_values(['Radhe Krishna', 'sumedh mudgalkar', 'Malika singh', 2, 4.5, 'hotstar'])\n",
      "dict_keys(['name', 'male lead', 'female lead', 'total session', 'ratng', 'ott'])\n",
      "dict_items([('name', 'Radhe Krishna'), ('male lead', 'sumedh mudgalkar'), ('female lead', 'Malika singh'), ('total session', 2), ('ratng', 4.5), ('ott', 'hotstar')])\n"
     ]
    }
   ],
   "source": [
    "print(Show.values())\n",
    "print(Show.keys())\n",
    "print(Show.items())"
   ]
  },
  {
   "attachments": {},
   "cell_type": "markdown",
   "metadata": {},
   "source": [
    "    PRACTICE QUESTION"
   ]
  },
  {
   "attachments": {},
   "cell_type": "markdown",
   "metadata": {},
   "source": [
    "Check if a given key exist in a dictionary or not"
   ]
  },
  {
   "cell_type": "code",
   "execution_count": 4,
   "metadata": {},
   "outputs": [
    {
     "name": "stdout",
     "output_type": "stream",
     "text": [
      "key is present in the dictionary\n",
      "value : 432\n"
     ]
    }
   ],
   "source": [
    "student= { 'Sahil':567, 'Saurabh':432,'Adyan':467}\n",
    "user_ip = input(\"enter a key to be verified : \")\n",
    "if user_ip in student.keys():\n",
    "    print(\"key is present in the dictionary\")\n",
    "    print('value',':',student[user_ip])\n",
    "else:\n",
    "    print('key does not present in the dictionary')"
   ]
  },
  {
   "attachments": {},
   "cell_type": "markdown",
   "metadata": {},
   "source": [
    "Concatenate two dictionary into one"
   ]
  },
  {
   "cell_type": "code",
   "execution_count": 5,
   "metadata": {},
   "outputs": [
    {
     "name": "stdout",
     "output_type": "stream",
     "text": [
      "{'seema': 23, 'Rishita': 25, 'Anshika': 23, 'akash': 42, 'Akshay': 44, 'ravi': 45}\n"
     ]
    }
   ],
   "source": [
    "Group1={'seema': 23, 'Rishita': 25, 'Anshika': 23 }\n",
    "Group2={'akash':42, 'Akshay': 44, 'ravi':45}\n",
    "Group1.update(Group2)\n",
    "print(Group1)"
   ]
  },
  {
   "attachments": {},
   "cell_type": "markdown",
   "metadata": {},
   "source": [
    "Multiply all the values in a dictionary "
   ]
  },
  {
   "cell_type": "code",
   "execution_count": 8,
   "metadata": {},
   "outputs": [
    {
     "name": "stdout",
     "output_type": "stream",
     "text": [
      "Multiplication value :  13225\n"
     ]
    }
   ],
   "source": [
    "Group1={'seema': 23, 'Rishita': 25, 'Anshika': 23 }\n",
    "m_value =1\n",
    "for i in Group1:\n",
    "    m_value = m_value*Group1[i]\n",
    "print('Multiplication value : ', m_value)    "
   ]
  },
  {
   "attachments": {},
   "cell_type": "markdown",
   "metadata": {},
   "source": [
    "Calculate sum of all in a dictionary"
   ]
  },
  {
   "cell_type": "code",
   "execution_count": 9,
   "metadata": {},
   "outputs": [
    {
     "name": "stdout",
     "output_type": "stream",
     "text": [
      "71\n"
     ]
    }
   ],
   "source": [
    "Group1={'seema': 23, 'Rishita': 25, 'Anshika': 23 }\n",
    "total= sum(Group1.values())\n",
    "print(total)\n"
   ]
  },
  {
   "attachments": {},
   "cell_type": "markdown",
   "metadata": {},
   "source": [
    "Convert two list n a dictionary "
   ]
  },
  {
   "cell_type": "code",
   "execution_count": 11,
   "metadata": {},
   "outputs": [
    {
     "name": "stdout",
     "output_type": "stream",
     "text": [
      "{1: 'Python', 2: 'Ear', 3: 'pokemon', 4: 'McDonald'}\n"
     ]
    }
   ],
   "source": [
    "l1=[1,2,3,4]\n",
    "l2=['Python','Ear','pokemon','McDonald']\n",
    "Group1= dict(zip(l1,l2))\n",
    "print(Group1)"
   ]
  },
  {
   "cell_type": "code",
   "execution_count": 12,
   "metadata": {},
   "outputs": [
    {
     "name": "stdout",
     "output_type": "stream",
     "text": [
      "(1, 'Python')\n",
      "(2, 'Ear')\n",
      "(3, 'pokemon')\n",
      "(4, 'McDonald')\n"
     ]
    }
   ],
   "source": [
    "for i in zip(l1, l2):   #It will create a tuple\n",
    "    print(i)"
   ]
  },
  {
   "attachments": {},
   "cell_type": "markdown",
   "metadata": {},
   "source": [
    "Write a Python script to sort (ascending and descending) a dictionary by value"
   ]
  },
  {
   "cell_type": "code",
   "execution_count": 1,
   "metadata": {},
   "outputs": [
    {
     "ename": "SyntaxError",
     "evalue": "':' expected after dictionary key (1267406008.py, line 1)",
     "output_type": "error",
     "traceback": [
      "\u001b[1;36m  Cell \u001b[1;32mIn[1], line 1\u001b[1;36m\u001b[0m\n\u001b[1;33m    Group1={'Reeta':34,'Vishnu':45,'Shejal'\u001b[0m\n\u001b[1;37m                                          ^\u001b[0m\n\u001b[1;31mSyntaxError\u001b[0m\u001b[1;31m:\u001b[0m ':' expected after dictionary key\n"
     ]
    }
   ],
   "source": [
    "Group1={'Reeta':34,'Vishnu':45,'Shejal':20,\"Deepti\":15}\n",
    "\n",
    "\n",
    "        \n",
    "        \n",
    "        \n",
    "        \n",
    "        \n",
    "        \n",
    "        \n",
    "        \n",
    "                                "
   ]
  },
  {
   "attachments": {},
   "cell_type": "markdown",
   "metadata": {},
   "source": [
    "3. Write a Python script to concatenate the following dictionaries to create a new one\n"
   ]
  },
  {
   "cell_type": "code",
   "execution_count": null,
   "metadata": {},
   "outputs": [],
   "source": [
    "#method to create empty dictionary\n",
    "a={}\n",
    "a=dict()\n"
   ]
  },
  {
   "attachments": {},
   "cell_type": "markdown",
   "metadata": {},
   "source": [
    "write a program to enter roll no and names o five student and store the data in dictionary"
   ]
  },
  {
   "cell_type": "code",
   "execution_count": 3,
   "metadata": {},
   "outputs": [
    {
     "name": "stdout",
     "output_type": "stream",
     "text": [
      "{'1': 'khushi', '2': 'shikhar', '3': 'rashi', '4': 'sayaq', '5': 'rishabh'}\n"
     ]
    }
   ],
   "source": [
    "d={}\n",
    "for i in range(5):\n",
    " rno=input(\"enter the roll no: \")\n",
    " name=input(\"enter name of student: \")\n",
    " d[rno]= name\n",
    "print(d)"
   ]
  },
  {
   "attachments": {},
   "cell_type": "markdown",
   "metadata": {},
   "source": [
    "write a program to store book id ,book name and price of three books and store the data in dictionary named 'dict'"
   ]
  },
  {
   "cell_type": "code",
   "execution_count": 7,
   "metadata": {},
   "outputs": [
    {
     "name": "stdout",
     "output_type": "stream",
     "text": [
      "{'101': ['ramayan', '320'], '102': ['god o the death', '430'], '104': ['evil', '540']}\n"
     ]
    }
   ],
   "source": [
    "dict={}\n",
    "for i in range (3):\n",
    "    book_id=input(\"enter any id: \")\n",
    "    book_name=input(\"enter book name: \")\n",
    "    book_price=input(\"enter the price of a book: \")\n",
    "    temp= [book_name,book_price]\n",
    "    dict[book_id]=temp\n",
    "print(dict)"
   ]
  },
  {
   "cell_type": "markdown",
   "metadata": {},
   "source": []
  },
  {
   "cell_type": "code",
   "execution_count": null,
   "metadata": {},
   "outputs": [],
   "source": []
  },
  {
   "cell_type": "code",
   "execution_count": null,
   "metadata": {},
   "outputs": [],
   "source": []
  },
  {
   "cell_type": "code",
   "execution_count": null,
   "metadata": {},
   "outputs": [],
   "source": []
  },
  {
   "cell_type": "code",
   "execution_count": null,
   "metadata": {},
   "outputs": [],
   "source": []
  }
 ],
 "metadata": {
  "kernelspec": {
   "display_name": "Python 3",
   "language": "python",
   "name": "python3"
  },
  "language_info": {
   "codemirror_mode": {
    "name": "ipython",
    "version": 3
   },
   "file_extension": ".py",
   "mimetype": "text/x-python",
   "name": "python",
   "nbconvert_exporter": "python",
   "pygments_lexer": "ipython3",
   "version": "3.10.9"
  },
  "orig_nbformat": 4
 },
 "nbformat": 4,
 "nbformat_minor": 2
}
