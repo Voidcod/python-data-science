{
 "cells": [
  {
   "cell_type": "code",
   "execution_count": 1,
   "metadata": {},
   "outputs": [],
   "source": [
    "from PIL import Image,ImageColor\n",
    "#location of the image\n",
    "img=Image.open('image.jpg')\n",
    "img.show()\n"
   ]
  },
  {
   "cell_type": "code",
   "execution_count": 2,
   "metadata": {},
   "outputs": [
    {
     "name": "stdout",
     "output_type": "stream",
     "text": [
      "(550, 550)\n"
     ]
    }
   ],
   "source": [
    "#size of the image\n",
    "print(img.size)"
   ]
  },
  {
   "cell_type": "code",
   "execution_count": 3,
   "metadata": {},
   "outputs": [
    {
     "name": "stdout",
     "output_type": "stream",
     "text": [
      "550*550\n"
     ]
    }
   ],
   "source": [
    "#resolution\n",
    "wid,hgt=img.size #fetching the dimension\n",
    "print(str(wid)+\"*\"+str(hgt))"
   ]
  },
  {
   "cell_type": "code",
   "execution_count": 4,
   "metadata": {},
   "outputs": [
    {
     "name": "stdout",
     "output_type": "stream",
     "text": [
      "the width of the image is :550\n",
      "the width of the image is :550\n"
     ]
    }
   ],
   "source": [
    "width =img.width\n",
    "height=img.height\n",
    "print(\"the width of the image is :\"+str (width))\n",
    "print(\"the width of the image is :\"+str (width))"
   ]
  },
  {
   "cell_type": "code",
   "execution_count": 5,
   "metadata": {},
   "outputs": [
    {
     "name": "stdout",
     "output_type": "stream",
     "text": [
      "JPEG\n"
     ]
    }
   ],
   "source": [
    "#format of the image\n",
    "print(img.format)"
   ]
  },
  {
   "cell_type": "code",
   "execution_count": 6,
   "metadata": {},
   "outputs": [
    {
     "name": "stdout",
     "output_type": "stream",
     "text": [
      "RGB\n"
     ]
    }
   ],
   "source": [
    "print(img.mode)"
   ]
  },
  {
   "cell_type": "code",
   "execution_count": 7,
   "metadata": {},
   "outputs": [
    {
     "name": "stdout",
     "output_type": "stream",
     "text": [
      "(255, 0, 0)\n"
     ]
    }
   ],
   "source": [
    "#rotate the image\n",
    "img_rotate=img.rotate(190,expand=True,fillcolor=ImageColor.getcolor('red','RGB'))\n",
    "print(ImageColor.getcolor(\"red\",'RGB'))\n",
    "img_rotate.show()"
   ]
  },
  {
   "cell_type": "code",
   "execution_count": 8,
   "metadata": {},
   "outputs": [],
   "source": [
    "# flipping the image\n",
    "img_flip= img.transpose(Image.FLIP_LEFT_RIGHT)\n",
    "img_flip.show()"
   ]
  },
  {
   "cell_type": "code",
   "execution_count": 9,
   "metadata": {},
   "outputs": [],
   "source": [
    "#create a new image from scratch\n",
    "image_blank= Image.new('RGBA',(100,600))\n",
    "image_blank.show()"
   ]
  },
  {
   "cell_type": "code",
   "execution_count": 10,
   "metadata": {},
   "outputs": [],
   "source": [
    "#saving the image\n",
    "img.save('img.jpg')\n",
    "\n"
   ]
  },
  {
   "cell_type": "code",
   "execution_count": 11,
   "metadata": {},
   "outputs": [
    {
     "name": "stdout",
     "output_type": "stream",
     "text": [
      "(550, 550)\n"
     ]
    }
   ],
   "source": [
    "print(img.size)"
   ]
  },
  {
   "attachments": {},
   "cell_type": "markdown",
   "metadata": {},
   "source": [
    "BASIC MANIPULATION\n"
   ]
  },
  {
   "cell_type": "code",
   "execution_count": 12,
   "metadata": {},
   "outputs": [
    {
     "name": "stdout",
     "output_type": "stream",
     "text": [
      "Object `Image.html` not found.\n"
     ]
    }
   ],
   "source": [
    "#documentation\n",
    "https://pillow.readthedocs.io/en/stable/reference/Image.html?"
   ]
  },
  {
   "cell_type": "code",
   "execution_count": 13,
   "metadata": {},
   "outputs": [],
   "source": [
    "#croping an image\n",
    "#img_crop= img.crop(left_x,top_y,right_x,bottom_y)\n",
    "img_crop= img.crop((0,0,500,550))\n",
    "img_crop.show()"
   ]
  },
  {
   "cell_type": "code",
   "execution_count": 14,
   "metadata": {},
   "outputs": [],
   "source": [
    "# resizing the image\n",
    "img_resize=img.resize((400,300))\n",
    "img_resize.show()"
   ]
  },
  {
   "cell_type": "code",
   "execution_count": 15,
   "metadata": {},
   "outputs": [],
   "source": [
    "image= Image.open('image.jpg')\n",
    "image.load()\n",
    "r,g,b =image.split()\n",
    "im1= Image.merge('RGB',(g,b,r))\n",
    "im1.show()"
   ]
  },
  {
   "cell_type": "code",
   "execution_count": 16,
   "metadata": {},
   "outputs": [
    {
     "name": "stdout",
     "output_type": "stream",
     "text": [
      "img 1 size: (600, 600)\n",
      "img 2 size: (612, 594)\n",
      "img 3 size: (612, 612)\n",
      "img 4 size: (337, 360)\n"
     ]
    }
   ],
   "source": [
    "img_1=Image.open('one.jpg')\n",
    "img_2=Image.open('two.jpg')\n",
    "img_3=Image.open('three.jpg')\n",
    "img_4=Image.open('four.jpg')\n",
    " \n",
    "\n",
    "img_1_size = img_1.size\n",
    "img_2_size = img_2.size\n",
    "img_3_size = img_3.size\n",
    "img_4_size = img_4.size\n",
    "\n",
    "\n",
    "print('img 1 size:', img_1_size)\n",
    "print('img 2 size:', img_2_size)\n",
    "print('img 3 size:', img_3_size)\n",
    "print('img 4 size:', img_4_size)\n",
    "\n",
    "new_im = Image.new('RGB',(2*img_1_size[0],2*img_1_size[1]),(250,250,250))\n",
    "new_im.paste (img_1,(0,0))\n",
    "new_im.paste (img_2,(img_1_size[0],0))\n",
    "new_im.paste (img_3,(0,img_1_size[1]))\n",
    "new_im.paste (img_4,(img_1_size[0],img_1_size[1]))\n",
    "new_im.show()\n"
   ]
  },
  {
   "cell_type": "code",
   "execution_count": 17,
   "metadata": {},
   "outputs": [],
   "source": [
    "\n",
    "img_1=Image.open('one.jpg')\n",
    "left=5\n",
    "top= height/4\n",
    "right=164\n",
    "bottom= 3*height/4\n",
    "\n",
    "img1 = img_1.crop((left, top, right,bottom))\n",
    "img1.show()"
   ]
  },
  {
   "cell_type": "code",
   "execution_count": null,
   "metadata": {},
   "outputs": [],
   "source": []
  }
 ],
 "metadata": {
  "kernelspec": {
   "display_name": "base",
   "language": "python",
   "name": "python3"
  },
  "language_info": {
   "codemirror_mode": {
    "name": "ipython",
    "version": 3
   },
   "file_extension": ".py",
   "mimetype": "text/x-python",
   "name": "python",
   "nbconvert_exporter": "python",
   "pygments_lexer": "ipython3",
   "version": "3.10.10"
  },
  "orig_nbformat": 4
 },
 "nbformat": 4,
 "nbformat_minor": 2
}
